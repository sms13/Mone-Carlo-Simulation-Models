{
 "cells": [
  {
   "cell_type": "code",
   "execution_count": null,
   "metadata": {},
   "outputs": [],
   "source": [
    "#####################################################################\n",
    "# Date: April 9, 2021\n",
    "# Author: Steven Shechter\n",
    "# Email: steven.shechter@sauder.ubc.ca\n",
    "# Description:\n",
    "# Newsvendor Simulation Example\n",
    "# This is intended to be a simple intro (e.g., a \"first model\") \n",
    "# to Monte Carlo simulation in Python.  \n",
    "#####################################################################\n"
   ]
  },
  {
   "cell_type": "code",
   "execution_count": 1,
   "metadata": {},
   "outputs": [],
   "source": [
    "import numpy as np  # for random number generation\n",
    "import scipy.stats as stats  # for calculating confidence intervals\n",
    "import math as math\n",
    "import matplotlib.pyplot as plt"
   ]
  },
  {
   "cell_type": "markdown",
   "metadata": {},
   "source": [
    "### Model parameters"
   ]
  },
  {
   "cell_type": "code",
   "execution_count": 2,
   "metadata": {},
   "outputs": [],
   "source": [
    "purchase_cost=0.25\n",
    "sale_price=1\n",
    "unif_ll = 100  # for demand lower limit\n",
    "unif_ul = 200 # for demand upper limit\n",
    "num_replications = 1000"
   ]
  },
  {
   "cell_type": "markdown",
   "metadata": {},
   "source": [
    "### Decision to evaluate (one order quantity; below we evaluate several values in a loop)"
   ]
  },
  {
   "cell_type": "code",
   "execution_count": 3,
   "metadata": {},
   "outputs": [],
   "source": [
    "order_quantity = 175 # order quanity to test"
   ]
  },
  {
   "cell_type": "markdown",
   "metadata": {},
   "source": [
    "### Simulation setup"
   ]
  },
  {
   "cell_type": "code",
   "execution_count": 4,
   "metadata": {},
   "outputs": [],
   "source": [
    "np.random.seed(1) # Set random seed for replicability/debugging purposes \n",
    "\n",
    "#initialize\n",
    "profit = 0\n",
    "sales_quantity = 0 \n",
    "expected_profit = 0\n",
    "profit_list = []\n",
    "expected_profit_list = []\n",
    "lower_95_CI_list = []\n",
    "upper_95_CI_list = []\n",
    "order_quantity_list = []\n",
    "percentile_5_list = []\n",
    "percentile_95_list = []"
   ]
  },
  {
   "cell_type": "markdown",
   "metadata": {},
   "source": [
    "### Run simulations"
   ]
  },
  {
   "cell_type": "code",
   "execution_count": 5,
   "metadata": {},
   "outputs": [],
   "source": [
    "#perform simulation replications\n",
    "for i in range(num_replications):    \n",
    "    demand = round(np.random.uniform(unif_ll,unif_ul))    # generates continuous Uniform random variable, then rounds to integer\n",
    "    sales_quantity = min(demand,order_quantity) \n",
    "    profit = sale_price * sales_quantity - purchase_cost * order_quantity\n",
    "    profit_list.append(profit) # store value"
   ]
  },
  {
   "cell_type": "markdown",
   "metadata": {},
   "source": [
    "### Get the average profit from the simulation replications, along with 95% confidence interval bounds"
   ]
  },
  {
   "cell_type": "code",
   "execution_count": 6,
   "metadata": {
    "scrolled": true
   },
   "outputs": [
    {
     "name": "stdout",
     "output_type": "stream",
     "text": [
      "average profit =  103.24\n",
      "95% CI = (101.70 104.78)\n"
     ]
    }
   ],
   "source": [
    "avg_profit = round(np.average(profit_list),2)\n",
    "# Get 95% Confidence interval bounds\n",
    "# first get sample standard deviation of the data in profit_list. \n",
    "stddev = np.std(profit_list, ddof=1) \n",
    "standard_error = stddev/math.sqrt(num_replications)\n",
    "t_critical = stats.t.ppf(q = .975, df = num_replications-1)\n",
    "lower_95_CI = avg_profit - t_critical*standard_error\n",
    "upper_95_CI = avg_profit + t_critical*standard_error\n",
    "# print out the outputs\n",
    "print(\"average profit = \", avg_profit)\n",
    "print(\"95%% CI = (%.2f %.2f)\" % (lower_95_CI, upper_95_CI))"
   ]
  },
  {
   "cell_type": "markdown",
   "metadata": {},
   "source": [
    "### Now try several values of decision variables, and store the results"
   ]
  },
  {
   "cell_type": "code",
   "execution_count": 67,
   "metadata": {},
   "outputs": [],
   "source": [
    "lower_search_limit = 100\n",
    "upper_search_limit = 200\n",
    "\n",
    "# Set up random seed to fix the simulation result\n",
    "np.random.seed(2)\n",
    "\n",
    "# outer loop to evalute each possible decision\n",
    "for order_quantity in range(lower_search_limit,upper_search_limit,1):    \n",
    "    \n",
    "    # reset the variables and lists when trying different values for decision variable\n",
    "    profit_list = []\n",
    "    \n",
    "    # inner loop to use simulation to evaluate this particular decision\n",
    "    for i in range(num_replications):                 \n",
    "        demand = round(np.random.uniform(unif_ll,unif_ul))\n",
    "        sales_quantity = min(demand,order_quantity) \n",
    "        profit = sale_price * sales_quantity - purchase_cost * order_quantity\n",
    "        profit_list.append(profit)\n",
    "    #end inner for loop over num_replications to evaluate this order_quantity\n",
    "    \n",
    "    #record metrics of interest to the array that stores these for each order quantity evaluated\n",
    "    order_quantity_list.append(order_quantity)\n",
    "    expected_profit = np.average(profit_list)\n",
    "    expected_profit_list.append(expected_profit)\n",
    "    percentile_5 = np.percentile(profit_list, 5)\n",
    "    percentile_95 = np.percentile(profit_list, 95)\n",
    "    percentile_5_list.append(percentile_5)\n",
    "    percentile_95_list.append(percentile_95)\n",
    "    \n",
    "    # Get 95% Confidence interval bounds\n",
    "    # first get sample standard deviation of the data in profit_list\n",
    "    stddev = np.std(profit_list, ddof=1) \n",
    "    standard_error = stddev/math.sqrt(num_replications)\n",
    "    t_critical = stats.t.ppf(q = .975, df = num_replications-1)\n",
    "    lower_95_CI_list.append(expected_profit - t_critical*standard_error)\n",
    "    upper_95_CI_list.append(expected_profit + t_critical*standard_error)\n",
    "    \n",
    "#end outer for loop that evaluates several values of order_quantity   "
   ]
  },
  {
   "cell_type": "markdown",
   "metadata": {},
   "source": [
    "### Find the order quantity that maximizes expected profit"
   ]
  },
  {
   "cell_type": "code",
   "execution_count": 53,
   "metadata": {},
   "outputs": [],
   "source": [
    "index = expected_profit_list.index(max(expected_profit_list))"
   ]
  },
  {
   "cell_type": "code",
   "execution_count": 54,
   "metadata": {},
   "outputs": [
    {
     "name": "stdout",
     "output_type": "stream",
     "text": [
      "The average profit maximizing order quantity is: 180\n"
     ]
    }
   ],
   "source": [
    "print(\"The average profit maximizing order quantity is: %d\" % (order_quantity_list[index])) # optimal order quantity"
   ]
  },
  {
   "cell_type": "code",
   "execution_count": 55,
   "metadata": {},
   "outputs": [
    {
     "name": "stdout",
     "output_type": "stream",
     "text": [
      "The maximimum average profit from this order quantity is: 104.41\n"
     ]
    }
   ],
   "source": [
    "print(\"The maximimum average profit from this order quantity is: %.2f\" % (expected_profit_list[index])) # avg profit associated with optimal order quantity"
   ]
  },
  {
   "cell_type": "markdown",
   "metadata": {},
   "source": [
    "### Plots"
   ]
  },
  {
   "cell_type": "code",
   "execution_count": 70,
   "metadata": {},
   "outputs": [
    {
     "data": {
      "image/png": "[encoded data removed]",
      "text/plain": [
       "<Figure size 432x288 with 1 Axes>"
      ]
     },
     "metadata": {
      "needs_background": "light"
     },
     "output_type": "display_data"
    }
   ],
   "source": [
    "# average profit vs. order quantity\n",
    "plt.clf() # clears plot\n",
    "plt.plot(order_quantity_list, expected_profit_list, 'r')\n",
    "plt.axis([150,200, 95,105]) # note partial plot, from 150 to 200\n",
    "plt.xlabel(\"order quantity\")\n",
    "plt.ylabel(\"average profit\")\n",
    "plt.show()"
   ]
  },
  {
   "cell_type": "code",
   "execution_count": 71,
   "metadata": {},
   "outputs": [
    {
     "data": {
      "image/png": "[encoded data removed]",
      "text/plain": [
       "<Figure size 432x288 with 1 Axes>"
      ]
     },
     "metadata": {
      "needs_background": "light"
     },
     "output_type": "display_data"
    }
   ],
   "source": [
    "# average , 5th, and 95th percentiles of profit vs. order quantity\n",
    "plt.clf()\n",
    "plt.plot(order_quantity_list, expected_profit_list, 'r')\n",
    "plt.plot(order_quantity_list,lower_95_CI_list, 'b')\n",
    "plt.plot(order_quantity_list, upper_95_CI_list, 'b')\n",
    "plt.axis([150, 200, 95, 110]) \n",
    "plt.xlabel(\"order quantity\")\n",
    "plt.ylabel(\"average profit\")\n",
    "plt.show()"
   ]
  },
  {
   "cell_type": "code",
   "execution_count": null,
   "metadata": {},
   "outputs": [],
   "source": []
  },
  {
   "cell_type": "code",
   "execution_count": null,
   "metadata": {},
   "outputs": [],
   "source": []
  }
 ],
 "metadata": {
  "kernelspec": {
   "display_name": "Python 3",
   "language": "python",
   "name": "python3"
  },
  "language_info": {
   "codemirror_mode": {
    "name": "ipython",
    "version": 3
   },
   "file_extension": ".py",
   "mimetype": "text/x-python",
   "name": "python",
   "nbconvert_exporter": "python",
   "pygments_lexer": "ipython3",
   "version": "3.8.5"
  }
 },
 "nbformat": 4,
 "nbformat_minor": 2
}
